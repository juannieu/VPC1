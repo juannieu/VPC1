{
  "cells": [
    {
      "cell_type": "code",
      "execution_count": null,
      "metadata": {
        "id": "M1I3MK6evg3Z"
      },
      "outputs": [],
      "source": [
        "import numpy as np\n",
        "import cv2 as cv\n",
        "import matplotlib.pyplot as plt\n",
        "import seaborn as sns\n",
        "import gc"
      ]
    },
    {
      "cell_type": "code",
      "execution_count": null,
      "metadata": {
        "colab": {
          "base_uri": "https://localhost:8080/"
        },
        "id": "UVMch3Xmi-aQ",
        "outputId": "79b3e8ed-41e0-40fb-c3e5-26b9c6fd7db5"
      },
      "outputs": [
        {
          "output_type": "stream",
          "name": "stdout",
          "text": [
            "--2022-04-19 14:48:08--  http://imagen1.png/\n",
            "Resolving imagen1.png (imagen1.png)... failed: Name or service not known.\n",
            "wget: unable to resolve host address ‘imagen1.png’\n",
            "--2022-04-19 14:48:08--  https://github.com/juannieu/VPC1/raw/main/TP4/Imagen1.png\n",
            "Resolving github.com (github.com)... 140.82.112.4\n",
            "Connecting to github.com (github.com)|140.82.112.4|:443... connected.\n",
            "HTTP request sent, awaiting response... 302 Found\n",
            "Location: https://raw.githubusercontent.com/juannieu/VPC1/main/TP4/Imagen1.png [following]\n",
            "--2022-04-19 14:48:09--  https://raw.githubusercontent.com/juannieu/VPC1/main/TP4/Imagen1.png\n",
            "Resolving raw.githubusercontent.com (raw.githubusercontent.com)... 185.199.110.133, 185.199.109.133, 185.199.111.133, ...\n",
            "Connecting to raw.githubusercontent.com (raw.githubusercontent.com)|185.199.110.133|:443... connected.\n",
            "HTTP request sent, awaiting response... 200 OK\n",
            "Length: 10940 (11K) [image/png]\n",
            "Saving to: ‘Imagen1.png’\n",
            "\n",
            "Imagen1.png         100%[===================>]  10.68K  --.-KB/s    in 0s      \n",
            "\n",
            "2022-04-19 14:48:09 (58.9 MB/s) - ‘Imagen1.png’ saved [10940/10940]\n",
            "\n",
            "FINISHED --2022-04-19 14:48:09--\n",
            "Total wall clock time: 0.5s\n",
            "Downloaded: 1 files, 11K in 0s (58.9 MB/s)\n",
            "--2022-04-19 14:48:09--  http://imagen2.png/\n",
            "Resolving imagen2.png (imagen2.png)... failed: Name or service not known.\n",
            "wget: unable to resolve host address ‘imagen2.png’\n",
            "--2022-04-19 14:48:09--  https://github.com/juannieu/VPC1/raw/main/TP4/Imagen2.png\n",
            "Resolving github.com (github.com)... 140.82.113.3\n",
            "Connecting to github.com (github.com)|140.82.113.3|:443... connected.\n",
            "HTTP request sent, awaiting response... 302 Found\n",
            "Location: https://raw.githubusercontent.com/juannieu/VPC1/main/TP4/Imagen2.png [following]\n",
            "--2022-04-19 14:48:09--  https://raw.githubusercontent.com/juannieu/VPC1/main/TP4/Imagen2.png\n",
            "Resolving raw.githubusercontent.com (raw.githubusercontent.com)... 185.199.108.133, 185.199.109.133, 185.199.110.133, ...\n",
            "Connecting to raw.githubusercontent.com (raw.githubusercontent.com)|185.199.108.133|:443... connected.\n",
            "HTTP request sent, awaiting response... 200 OK\n",
            "Length: 112425 (110K) [image/png]\n",
            "Saving to: ‘Imagen2.png’\n",
            "\n",
            "Imagen2.png         100%[===================>] 109.79K  --.-KB/s    in 0.01s   \n",
            "\n",
            "2022-04-19 14:48:10 (7.52 MB/s) - ‘Imagen2.png’ saved [112425/112425]\n",
            "\n",
            "FINISHED --2022-04-19 14:48:10--\n",
            "Total wall clock time: 0.8s\n",
            "Downloaded: 1 files, 110K in 0.01s (7.52 MB/s)\n",
            "--2022-04-19 14:48:10--  http://imagen3.png/\n",
            "Resolving imagen3.png (imagen3.png)... failed: Name or service not known.\n",
            "wget: unable to resolve host address ‘imagen3.png’\n",
            "--2022-04-19 14:48:10--  https://github.com/juannieu/VPC1/raw/main/TP4/Imagen3.png\n",
            "Resolving github.com (github.com)... 140.82.113.3\n",
            "Connecting to github.com (github.com)|140.82.113.3|:443... connected.\n",
            "HTTP request sent, awaiting response... 302 Found\n",
            "Location: https://raw.githubusercontent.com/juannieu/VPC1/main/TP4/Imagen3.png [following]\n",
            "--2022-04-19 14:48:10--  https://raw.githubusercontent.com/juannieu/VPC1/main/TP4/Imagen3.png\n",
            "Resolving raw.githubusercontent.com (raw.githubusercontent.com)... 185.199.108.133, 185.199.109.133, 185.199.110.133, ...\n",
            "Connecting to raw.githubusercontent.com (raw.githubusercontent.com)|185.199.108.133|:443... connected.\n",
            "HTTP request sent, awaiting response... 200 OK\n",
            "Length: 9271 (9.1K) [image/png]\n",
            "Saving to: ‘Imagen3.png’\n",
            "\n",
            "Imagen3.png         100%[===================>]   9.05K  --.-KB/s    in 0s      \n",
            "\n",
            "2022-04-19 14:48:10 (61.8 MB/s) - ‘Imagen3.png’ saved [9271/9271]\n",
            "\n",
            "FINISHED --2022-04-19 14:48:10--\n",
            "Total wall clock time: 0.5s\n",
            "Downloaded: 1 files, 9.1K in 0s (61.8 MB/s)\n",
            "--2022-04-19 14:48:10--  http://imagen4.png/\n",
            "Resolving imagen4.png (imagen4.png)... failed: Name or service not known.\n",
            "wget: unable to resolve host address ‘imagen4.png’\n",
            "--2022-04-19 14:48:10--  https://github.com/juannieu/VPC1/raw/main/TP4/Imagen4.png\n",
            "Resolving github.com (github.com)... 140.82.113.4\n",
            "Connecting to github.com (github.com)|140.82.113.4|:443... connected.\n",
            "HTTP request sent, awaiting response... 302 Found\n",
            "Location: https://raw.githubusercontent.com/juannieu/VPC1/main/TP4/Imagen4.png [following]\n",
            "--2022-04-19 14:48:11--  https://raw.githubusercontent.com/juannieu/VPC1/main/TP4/Imagen4.png\n",
            "Resolving raw.githubusercontent.com (raw.githubusercontent.com)... 185.199.108.133, 185.199.109.133, 185.199.110.133, ...\n",
            "Connecting to raw.githubusercontent.com (raw.githubusercontent.com)|185.199.108.133|:443... connected.\n",
            "HTTP request sent, awaiting response... 200 OK\n",
            "Length: 37796 (37K) [image/png]\n",
            "Saving to: ‘Imagen4.png’\n",
            "\n",
            "Imagen4.png         100%[===================>]  36.91K  --.-KB/s    in 0s      \n",
            "\n",
            "2022-04-19 14:48:11 (80.8 MB/s) - ‘Imagen4.png’ saved [37796/37796]\n",
            "\n",
            "FINISHED --2022-04-19 14:48:11--\n",
            "Total wall clock time: 0.6s\n",
            "Downloaded: 1 files, 37K in 0s (80.8 MB/s)\n",
            "--2022-04-19 14:48:11--  http://imagen5.png/\n",
            "Resolving imagen5.png (imagen5.png)... failed: Name or service not known.\n",
            "wget: unable to resolve host address ‘imagen5.png’\n",
            "--2022-04-19 14:48:11--  https://github.com/juannieu/VPC1/raw/main/TP4/Imagen5.png\n",
            "Resolving github.com (github.com)... 140.82.113.4\n",
            "Connecting to github.com (github.com)|140.82.113.4|:443... connected.\n",
            "HTTP request sent, awaiting response... 302 Found\n",
            "Location: https://raw.githubusercontent.com/juannieu/VPC1/main/TP4/Imagen5.png [following]\n",
            "--2022-04-19 14:48:12--  https://raw.githubusercontent.com/juannieu/VPC1/main/TP4/Imagen5.png\n",
            "Resolving raw.githubusercontent.com (raw.githubusercontent.com)... 185.199.108.133, 185.199.109.133, 185.199.110.133, ...\n",
            "Connecting to raw.githubusercontent.com (raw.githubusercontent.com)|185.199.108.133|:443... connected.\n",
            "HTTP request sent, awaiting response... 200 OK\n",
            "Length: 118286 (116K) [image/png]\n",
            "Saving to: ‘Imagen5.png’\n",
            "\n",
            "Imagen5.png         100%[===================>] 115.51K  --.-KB/s    in 0.01s   \n",
            "\n",
            "2022-04-19 14:48:12 (8.84 MB/s) - ‘Imagen5.png’ saved [118286/118286]\n",
            "\n",
            "FINISHED --2022-04-19 14:48:12--\n",
            "Total wall clock time: 0.6s\n",
            "Downloaded: 1 files, 116K in 0.01s (8.84 MB/s)\n"
          ]
        }
      ],
      "source": [
        "!wget imagen1.png https://github.com/juannieu/VPC1/raw/main/TP4/Imagen1.png\n",
        "!wget imagen2.png https://github.com/juannieu/VPC1/raw/main/TP4/Imagen2.png\n",
        "!wget imagen3.png https://github.com/juannieu/VPC1/raw/main/TP4/Imagen3.png\n",
        "!wget imagen4.png https://github.com/juannieu/VPC1/raw/main/TP4/Imagen4.png\n",
        "!wget imagen5.png https://github.com/juannieu/VPC1/raw/main/TP4/Imagen5.png"
      ]
    },
    {
      "cell_type": "code",
      "execution_count": null,
      "metadata": {
        "colab": {
          "base_uri": "https://localhost:8080/"
        },
        "id": "EXSRGUkYS55u",
        "outputId": "6d8f70f0-2aea-4794-eb82-009139d2d4b9"
      },
      "outputs": [
        {
          "output_type": "stream",
          "name": "stdout",
          "text": [
            "120\n",
            "4\n"
          ]
        }
      ],
      "source": [
        "imgColor2=cv.imread('Imagen5.png')\n",
        "imgGr=cv.cvtColor(imgColor2,cv.COLOR_BGR2GRAY)\n",
        "pixelUsado=imgGr[2][2]\n",
        "j=clockwise(imgGr,2,2,pixelUsado)\n",
        "print(pixelUsado)\n",
        "print(j)"
      ]
    },
    {
      "cell_type": "code",
      "execution_count": null,
      "metadata": {
        "id": "OBPV0SkWtAxN"
      },
      "outputs": [],
      "source": [
        "def elebepe(imagen):\n",
        "  #Defino el radio\n",
        "  radio=1\n",
        "  #Abrimos la imagen\n",
        "  imgColor=cv.imread(imagen)\n",
        "  #Transformamos la Imagen a Escala de Grises\n",
        "  imagenEnGrises=cv.cvtColor(imgColor,cv.COLOR_BGR2GRAY)\n",
        "  #Obtenemos las dimensiones de la imagen\n",
        "  dimensionesH,dimensionesV= imagenEnGrises.shape\n",
        "\n",
        "  imgresp=np.empty((dimensionesH-1,dimensionesV-1),dtype=int)\n",
        "  #print(imgresp)\n",
        "\n",
        "  \n",
        "  #Recorro cada pixel, obviando bordes\n",
        "  for indiceH in range(radio,dimensionesH-radio):\n",
        "    for indiceV in range(radio,dimensionesV-radio):\n",
        "      pix=imagenEnGrises[indiceH][indiceV]\n",
        "      imgresp[indiceH][indiceV]=clockwise(imagenEnGrises,indiceH,indiceV,pix)\n",
        "\n",
        "  #print(imgresp,file=open(\"output.txt\",\"a\"))     \n",
        "  #Imagen del ángulo\n",
        "  #plt.figure()\n",
        "  #plt.imshow(imgresp)\n",
        "  #plt.show()\n",
        "  return imgresp\n",
        "\n",
        "\n",
        "def clockwise(imagenGris,indiceH,indiceV,valPixel):\n",
        "  elArray = np.empty(8, dtype=float)\n",
        "  val0=(0 if imagenGris[indiceH-1][indiceV]<valPixel else 1)\n",
        "  val1=(0 if imagenGris[indiceH-1][indiceV+1]<valPixel else 1)*(2**1)\n",
        "  val2=(0 if imagenGris[indiceH][indiceV+1]<valPixel else 1)*(2**2)\n",
        "  val3=(0 if imagenGris[indiceH+1][indiceV+1]<valPixel else 1)*(2**3)\n",
        "  val4=(0 if imagenGris[indiceH+1][indiceV]<valPixel else 1)*(2**4)\n",
        "  val5=(0 if imagenGris[indiceH+1][indiceV-1]<valPixel else 1)*(2**5)\n",
        "  val6=(0 if imagenGris[indiceH][indiceV-1]<valPixel else 1)*(2**6)\n",
        "  val7=(0 if imagenGris[indiceH-1][indiceV-1]<valPixel else 1)*(2**7)\n",
        "\n",
        "  '''print('Val0 es ',val0)\n",
        "  print('Val1 es ',val1)\n",
        "  print('Val2 es ',val2)\n",
        "  print('Val3 es ',val3)\n",
        "  print('Val4 es ',val4)\n",
        "  print('Val5 es ',val5)\n",
        "  print('Val6 es ',val6)\n",
        "  print('Val7 es ',val7)'''\n",
        "\n",
        "  suma=val0+val1+val2+val3+val4+val5+val6+val7\n",
        "  return suma"
      ]
    },
    {
      "cell_type": "code",
      "execution_count": null,
      "metadata": {
        "id": "ZU95EEkevjKD"
      },
      "outputs": [],
      "source": [
        "nombres=['Imagen1.png','Imagen2.png','Imagen3.png','Imagen4.png','Imagen5.png']\n",
        "for imag in nombres:\n",
        "  img_proc=elebepe(imag)\n",
        "\n",
        "  cv.imwrite('post_proc'+imag,img_proc)\n",
        "\n",
        "  gc.collect()"
      ]
    },
    {
      "cell_type": "code",
      "source": [
        "fac=[0,1,2,4,8,16,32,64,128,256]\n",
        "imgH=cv.imread('post_procImagen1.png')\n",
        "imgHGris=cv.cvtColor(imgH,cv.COLOR_BGR2GRAY)\n",
        "plt.hist(imgHGris,bins=fac)"
      ],
      "metadata": {
        "colab": {
          "base_uri": "https://localhost:8080/",
          "height": 265
        },
        "id": "t7EHzXpLR0Lc",
        "outputId": "193dabe4-91a8-4968-ad5b-34afd0e45b7a"
      },
      "execution_count": null,
      "outputs": [
        {
          "output_type": "display_data",
          "data": {
            "text/plain": [
              "<Figure size 432x288 with 1 Axes>"
            ],
            "image/png": "[encoded data removed]"
          },
          "metadata": {
            "needs_background": "light"
          }
        }
      ]
    },
    {
      "cell_type": "code",
      "source": [
        "fac=[0,1,2,4,8,16,32,64,128,256]\n",
        "imgH=cv.imread('post_procImagen2.png')\n",
        "imgHGris=cv.cvtColor(imgH,cv.COLOR_BGR2GRAY)\n",
        "plt.hist(imgHGris,bins=fac)"
      ],
      "metadata": {
        "colab": {
          "base_uri": "https://localhost:8080/",
          "height": 421
        },
        "id": "SjN7_lEYci3E",
        "outputId": "a95e5f62-821b-4202-f64c-e8dc02a34234"
      },
      "execution_count": null,
      "outputs": [
        {
          "output_type": "execute_result",
          "data": {
            "text/plain": [
              "(array([[ 14.,   1.,   0., ...,  13.,  31.,  99.],\n",
              "        [ 12.,   2.,   2., ...,  13.,  19., 101.],\n",
              "        [ 10.,   0.,   5., ...,  16.,  31., 103.],\n",
              "        ...,\n",
              "        [  5.,   3.,   2., ...,  19.,  38.,  90.],\n",
              "        [ 16.,   5.,   5., ...,   9.,  31.,  89.],\n",
              "        [ 14.,   2.,   1., ...,  14.,  29., 115.]]),\n",
              " array([  0,   1,   2,   4,   8,  16,  32,  64, 128, 256]),\n",
              " <a list of 187 Lists of Patches objects>)"
            ]
          },
          "metadata": {},
          "execution_count": 14
        },
        {
          "output_type": "display_data",
          "data": {
            "text/plain": [
              "<Figure size 432x288 with 1 Axes>"
            ],
            "image/png": "[encoded data removed]"
          },
          "metadata": {
            "needs_background": "light"
          }
        }
      ]
    },
    {
      "cell_type": "code",
      "source": [
        "fac=[0,1,2,4,8,16,32,64,128,256]\n",
        "imgH=cv.imread('post_procImagen3.png')\n",
        "imgHGris=cv.cvtColor(imgH,cv.COLOR_BGR2GRAY)\n",
        "plt.hist(imgHGris,bins=fac)"
      ],
      "metadata": {
        "colab": {
          "base_uri": "https://localhost:8080/",
          "height": 421
        },
        "id": "xnc90RTXcntL",
        "outputId": "e88809bb-f154-4f93-d811-8e3d958eadf1"
      },
      "execution_count": null,
      "outputs": [
        {
          "output_type": "execute_result",
          "data": {
            "text/plain": [
              "(array([[  0.,   0.,   0., ...,   0.,   0., 188.],\n",
              "        [  2.,   0.,   2., ...,   5.,  22., 153.],\n",
              "        [  5.,   0.,   1., ...,   7.,  23., 145.],\n",
              "        ...,\n",
              "        [  2.,   1.,   0., ...,   7.,  35., 141.],\n",
              "        [  0.,   1.,   0., ...,   6.,  28., 148.],\n",
              "        [  2.,   0.,   0., ...,   8.,  21., 152.]]),\n",
              " array([  0,   1,   2,   4,   8,  16,  32,  64, 128, 256]),\n",
              " <a list of 195 Lists of Patches objects>)"
            ]
          },
          "metadata": {},
          "execution_count": 15
        },
        {
          "output_type": "display_data",
          "data": {
            "text/plain": [
              "<Figure size 432x288 with 1 Axes>"
            ],
            "image/png": "[encoded data removed]"
          },
          "metadata": {
            "needs_background": "light"
          }
        }
      ]
    },
    {
      "cell_type": "code",
      "source": [
        "fac=[0,1,2,4,8,16,32,64,128,256]\n",
        "imgH=cv.imread('post_procImagen4.png')\n",
        "imgHGris=cv.cvtColor(imgH,cv.COLOR_BGR2GRAY)\n",
        "plt.hist(imgHGris,bins=fac)"
      ],
      "metadata": {
        "colab": {
          "base_uri": "https://localhost:8080/",
          "height": 421
        },
        "id": "YCnl_jUdctF3",
        "outputId": "cccbf5a3-7966-425d-fee2-471d7c00bd11"
      },
      "execution_count": null,
      "outputs": [
        {
          "output_type": "execute_result",
          "data": {
            "text/plain": [
              "(array([[  5.,   0.,   0., ...,   2.,  21., 146.],\n",
              "        [  3.,   1.,   0., ...,  17.,  21., 118.],\n",
              "        [  1.,   0.,   0., ...,   9.,  30., 134.],\n",
              "        ...,\n",
              "        [  1.,   0.,   1., ...,  22.,  35., 124.],\n",
              "        [  1.,   0.,   0., ...,  18.,  33., 128.],\n",
              "        [  1.,   0.,   0., ...,  21.,  31., 100.]]),\n",
              " array([  0,   1,   2,   4,   8,  16,  32,  64, 128, 256]),\n",
              " <a list of 187 Lists of Patches objects>)"
            ]
          },
          "metadata": {},
          "execution_count": 16
        },
        {
          "output_type": "display_data",
          "data": {
            "text/plain": [
              "<Figure size 432x288 with 1 Axes>"
            ],
            "image/png": "[encoded data removed]"
          },
          "metadata": {
            "needs_background": "light"
          }
        }
      ]
    },
    {
      "cell_type": "code",
      "source": [
        "fac=[0,1,2,4,8,16,32,64,128,256]\n",
        "imgH=cv.imread('post_procImagen5.png')\n",
        "imgHGris=cv.cvtColor(imgH,cv.COLOR_BGR2GRAY)\n",
        "plt.hist(imgHGris,bins=fac)"
      ],
      "metadata": {
        "colab": {
          "base_uri": "https://localhost:8080/",
          "height": 421
        },
        "id": "XcSlQgBEcyCf",
        "outputId": "7b5588ac-e9b8-415a-ffdf-daeaba22346f"
      },
      "execution_count": null,
      "outputs": [
        {
          "output_type": "execute_result",
          "data": {
            "text/plain": [
              "(array([[ 11.,   3.,   1., ...,  15.,  30., 101.],\n",
              "        [ 12.,   1.,   5., ...,  20.,  27.,  99.],\n",
              "        [ 20.,   3.,   5., ...,  13.,  23.,  97.],\n",
              "        ...,\n",
              "        [ 11.,   4.,   4., ...,  18.,  28.,  86.],\n",
              "        [ 18.,   2.,   6., ...,  19.,  21.,  90.],\n",
              "        [ 11.,   3.,   6., ...,  18.,  23., 106.]]),\n",
              " array([  0,   1,   2,   4,   8,  16,  32,  64, 128, 256]),\n",
              " <a list of 190 Lists of Patches objects>)"
            ]
          },
          "metadata": {},
          "execution_count": 17
        },
        {
          "output_type": "display_data",
          "data": {
            "text/plain": [
              "<Figure size 432x288 with 1 Axes>"
            ],
            "image/png": "[encoded data removed]"
          },
          "metadata": {
            "needs_background": "light"
          }
        }
      ]
    }
  ],
  "metadata": {
    "colab": {
      "name": "Tp4 VPC1.ipynb",
      "provenance": []
    },
    "kernelspec": {
      "display_name": "Python 3",
      "name": "python3"
    },
    "language_info": {
      "name": "python"
    }
  },
  "nbformat": 4,
  "nbformat_minor": 0
}