{
  "nbformat": 4,
  "nbformat_minor": 0,
  "metadata": {
    "colab": {
      "name": "TP7 VpC1 Juan Pablo Nieto Uribe.ipynb",
      "provenance": []
    },
    "kernelspec": {
      "name": "python3",
      "display_name": "Python 3"
    },
    "language_info": {
      "name": "python"
    },
    "accelerator": "GPU"
  },
  "cells": [
    {
      "cell_type": "code",
      "execution_count": 1,
      "metadata": {
        "id": "DIh6kSBzxrpM"
      },
      "outputs": [],
      "source": [
        "import cv2 as cv\n",
        "from numpy.random import default_rng\n",
        "import numpy as np\n",
        "import matplotlib.pyplot as plt\n",
        "import time"
      ]
    },
    {
      "cell_type": "code",
      "source": [
        "#Descargamos el vídeo desde Github\n",
        "!wget slow_traffic_small.mp4 https://github.com/juannieu/VPC1/raw/main/TP7/slow_traffic_small.mp4"
      ],
      "metadata": {
        "colab": {
          "base_uri": "https://localhost:8080/"
        },
        "id": "lpkmRZwDxtGS",
        "outputId": "8434ce16-b4d7-4d7b-f98d-af74547f6e71"
      },
      "execution_count": 2,
      "outputs": [
        {
          "output_type": "stream",
          "name": "stdout",
          "text": [
            "--2022-05-01 18:05:43--  http://slow_traffic_small.mp4/\n",
            "Resolving slow_traffic_small.mp4 (slow_traffic_small.mp4)... failed: Name or service not known.\n",
            "wget: unable to resolve host address ‘slow_traffic_small.mp4’\n",
            "--2022-05-01 18:05:43--  https://github.com/juannieu/VPC1/raw/main/TP7/slow_traffic_small.mp4\n",
            "Resolving github.com (github.com)... 192.30.255.113\n",
            "Connecting to github.com (github.com)|192.30.255.113|:443... connected.\n",
            "HTTP request sent, awaiting response... 302 Found\n",
            "Location: https://raw.githubusercontent.com/juannieu/VPC1/main/TP7/slow_traffic_small.mp4 [following]\n",
            "--2022-05-01 18:05:43--  https://raw.githubusercontent.com/juannieu/VPC1/main/TP7/slow_traffic_small.mp4\n",
            "Resolving raw.githubusercontent.com (raw.githubusercontent.com)... 185.199.109.133, 185.199.108.133, 185.199.110.133, ...\n",
            "Connecting to raw.githubusercontent.com (raw.githubusercontent.com)|185.199.109.133|:443... connected.\n",
            "HTTP request sent, awaiting response... 200 OK\n",
            "Length: 2018126 (1.9M) [application/octet-stream]\n",
            "Saving to: ‘slow_traffic_small.mp4’\n",
            "\n",
            "slow_traffic_small. 100%[===================>]   1.92M  --.-KB/s    in 0.03s   \n",
            "\n",
            "2022-05-01 18:05:44 (61.8 MB/s) - ‘slow_traffic_small.mp4’ saved [2018126/2018126]\n",
            "\n",
            "FINISHED --2022-05-01 18:05:44--\n",
            "Total wall clock time: 0.9s\n",
            "Downloaded: 1 files, 1.9M in 0.03s (61.8 MB/s)\n"
          ]
        }
      ]
    },
    {
      "cell_type": "code",
      "source": [
        "def mostrar(imagen):\n",
        "  plt.figure()\n",
        "  plt.imshow(imagen)\n",
        "  plt.show()"
      ],
      "metadata": {
        "id": "3MRlIEbny0Kp"
      },
      "execution_count": 3,
      "outputs": []
    },
    {
      "cell_type": "code",
      "source": [
        "def cuantosFramesTieneElVideo(videoCapturado):\n",
        "  varFrames=0\n",
        "  varStop=False\n",
        "  while varStop==False:\n",
        "    re,frame=videoCapturado.read()\n",
        "    varFrames=varFrames+1\n",
        "    if frame is None:\n",
        "        varStop=True\n",
        "        return varFrames-1\n",
        "        #También pude haber usado #frames2= video.get(cv.CAP_PROP_FRAME_COUNT), pero me di cuenta cuando esto ya estaba"
      ],
      "metadata": {
        "id": "kapmytEr0ngk"
      },
      "execution_count": 10,
      "outputs": []
    },
    {
      "cell_type": "code",
      "source": [
        "def framesAleatorios(cuentaFrames,N):\n",
        "  framesObservados=[]\n",
        "  numerosAleatoriosGen = default_rng()\n",
        "  print('cuentaFrames esdfgdfg',cuentaFrames)\n",
        "  print('N edfgfdgs ',N)\n",
        "  numeros = numerosAleatoriosGen.choice(cuentaFrames, size=N, replace=False)\n",
        "  numeros = np.sort(numeros)\n",
        "  #print(np.dtype(numeros))\n",
        "  return numeros"
      ],
      "metadata": {
        "id": "T37W7cOkzUHo"
      },
      "execution_count": 5,
      "outputs": []
    },
    {
      "cell_type": "code",
      "source": [
        "def imgMediana(N):\n",
        "  elArr=[]\n",
        "\n",
        "#Abro el vídeo\n",
        "  elVideo=cv.VideoCapture('slow_traffic_small.mp4')\n",
        "#Cuento cuántos frames tengo\n",
        "  numFrames=cuantosFramesTieneElVideo(elVideo)\n",
        "#Generamos la lista de frames aleatorios\n",
        "  framex=framesAleatorios(numFrames,N)\n",
        "\n",
        "#Leo el vídeo\n",
        "  elVideo=cv.VideoCapture('slow_traffic_small.mp4')\n",
        "  exito,cuadro=elVideo.read()\n",
        "  indice=0\n",
        "  while exito:\n",
        "    imagen_Gris=cv.cvtColor(cuadro,cv.COLOR_BGR2GRAY)\n",
        "    if indice in framex:\n",
        "    #mostrar(imagen_Gris)\n",
        "      elArr.append(imagen_Gris)\n",
        "    exito,cuadro=elVideo.read()\n",
        "    indice=indice+1\n",
        "  med=np.median(elArr,axis=0)\n",
        "  mostrar(med)\n",
        "  #print(indice)\n",
        "  return med\n"
      ],
      "metadata": {
        "id": "7ueAfFVxxvvW"
      },
      "execution_count": 53,
      "outputs": []
    },
    {
      "cell_type": "code",
      "source": [
        "def naive():\n",
        "  #Recibo los parámetros de entrada\n",
        "  print('Cuántos Frames uso?')\n",
        "  N=int(input())\n",
        "  print('Cada cuánto tiempo recalculo?(En segundos)')\n",
        "  intervalo=int(input())\n",
        "  tiempo_inicial=time.time()\n",
        "  tiempo=tiempo_inicial\n",
        "  #Considerando que el vídeo dura 30 segundos\n",
        "  while tiempo<tiempo_inicial+30:\n",
        "    resta=tiempo-tiempo_inicial\n",
        "    tiempo=time.time()\n",
        "    if resta%intervalo==0:\n",
        "      laMediana=imgMediana(N)\n",
        "    #Leo el vídeo\n",
        "    elVideoE=cv.VideoCapture('slow_traffic_small.mp4')\n",
        "    exitoE,cuadroE=elVideoE.read()\n",
        "    #Resto cada frame a la mediana\n",
        "    while exitoE:\n",
        "      imagen_Gris=cv.cvtColor(cuadroE,cv.COLOR_BGR2GRAY)\n",
        "      exitoE,cuadroE=elVideoE.read()\n",
        "      menosMediana=imagen_Gris-laMediana\n",
        "      mostrar(menosMediana)"
      ],
      "metadata": {
        "id": "QtN3H2Dh4ZLB"
      },
      "execution_count": 61,
      "outputs": []
    },
    {
      "cell_type": "code",
      "source": [
        "for i in range(0,2):\n",
        "  if i==0:\n",
        "    naive()\n",
        "  else:\n",
        "    #Y luego comparamos con modelos Gaussianos\n",
        "    backSub = cv.createBackgroundSubtractorKNN()\n",
        "    backSub = cv.createBackgroundSubtractorKNN(detectShadows = True)\n",
        "\n",
        "    filename = 'vtest.avi'\n",
        "    capture = cv.VideoCapture(filename)\n",
        "\n",
        "    if not capture.isOpened:\n",
        "        print('Falla al abrir el archivo: ' + filename)\n",
        "        exit(0)\n",
        "\n",
        "# Corremos la sustraccion\n",
        "#------------------------\n",
        "    while True:\n",
        "    # Leemos un frame\n",
        "        ret, frame = capture.read()\n",
        "        if frame is None:\n",
        "            break\n",
        "    \n",
        "    # Aplicamos la sustracción al frame leído\n",
        "    #----------------------------------------\n",
        "    # Cada frame se utiliza tanto para calcular la máscara de primer plano como para actualizar el fondo.\n",
        "    # Si se desea cambiar la tasa de aprendizaje utilizada para actualizar el modelo de fondo, es posible\n",
        "    # establecer una tasa de aprendizaje específica pasando un parámetro al método apply.\n",
        "        fgMask = backSub.apply(frame)\n",
        "    \n",
        "    # Escribimos sobre la imagen el número de frame procesado\n",
        "        cv.rectangle(frame, (10, 2), (100,20), (255,255,255), -1)\n",
        "        cv.putText(frame, str(capture.get(cv.CAP_PROP_POS_FRAMES)), (15, 15),\n",
        "                  cv.FONT_HERSHEY_SIMPLEX, 0.5 , (0,0,0))\n",
        "    \n",
        "        mostrar(frame)\n",
        "        mostrar(fgMask)\n",
        "\n",
        "\n"
      ],
      "metadata": {
        "id": "KrFVTBqr_1Dz"
      },
      "execution_count": null,
      "outputs": []
    }
  ]
}